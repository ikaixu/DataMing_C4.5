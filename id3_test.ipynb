{
 "cells": [
  {
   "cell_type": "code",
   "execution_count": null,
   "metadata": {},
   "outputs": [],
   "source": [
    "\"\"\"\n",
    "改进id3_learn.ipynb中的不足,在python的pandas和numpy中找寻相关的api简化一些函数。\n",
    "\"\"\""
   ]
  },
  {
   "cell_type": "code",
   "execution_count": null,
   "metadata": {},
   "outputs": [],
   "source": [
    "\"\"\"\n",
    "计算初始熵值的改进方法，pandas实现。耗时耗力。\n",
    "\"\"\""
   ]
  },
  {
   "cell_type": "code",
   "execution_count": 1,
   "metadata": {},
   "outputs": [],
   "source": [
    "import pandas as pd\n",
    "import numpy as np"
   ]
  },
  {
   "cell_type": "code",
   "execution_count": 2,
   "metadata": {},
   "outputs": [],
   "source": [
    "dataset = np.array([(0,2,0,0,0), (0,2,0,1,0), (1,2,0,0,1), (2,1,0,0,1), \n",
    "                   (2,0,1,0,1), (2,0,1,1,0), (1,0,1,1,1), (0,1,0,0,0), \n",
    "                   (0,0,1,0,1), (2,1,1,0,1), (0,1,1,1,1), (1,1,0,1,1), \n",
    "                   (1,2,1,0,1), (2,1,0,1,0)])"
   ]
  },
  {
   "cell_type": "code",
   "execution_count": 13,
   "metadata": {},
   "outputs": [
    {
     "data": {
      "text/plain": [
       "array([0, 0, 1, 2, 2, 2, 1, 0, 0, 2, 0, 1, 1, 2])"
      ]
     },
     "execution_count": 13,
     "metadata": {},
     "output_type": "execute_result"
    }
   ],
   "source": [
    "#dataset[:,0]"
   ]
  },
  {
   "cell_type": "code",
   "execution_count": 12,
   "metadata": {},
   "outputs": [
    {
     "data": {
      "text/plain": [
       "[array([0, 0, 1, 2, 2, 2, 1, 0, 0, 2, 0, 1, 1, 2]),\n",
       " array([2, 2, 2, 1, 0, 0, 0, 1, 0, 1, 1, 1, 2, 1]),\n",
       " array([0, 0, 0, 0, 1, 1, 1, 0, 1, 1, 1, 0, 1, 0]),\n",
       " array([0, 1, 0, 0, 0, 1, 1, 0, 0, 0, 1, 1, 0, 1]),\n",
       " array([0, 0, 1, 1, 1, 0, 1, 0, 1, 1, 1, 1, 1, 0])]"
      ]
     },
     "execution_count": 12,
     "metadata": {},
     "output_type": "execute_result"
    }
   ],
   "source": [
    "#按列循环\n",
    "k = []\n",
    "for i in range(0,5):\n",
    "    k.append(dataset[:,i])\n",
    "k"
   ]
  },
  {
   "cell_type": "code",
   "execution_count": 16,
   "metadata": {},
   "outputs": [
    {
     "data": {
      "text/plain": [
       "[1, 1, 1, 1]"
      ]
     },
     "execution_count": 16,
     "metadata": {},
     "output_type": "execute_result"
    }
   ],
   "source": [
    "value = 1\n",
    "[m, n] = dataset.shape\n",
    "retDataSet = []\n",
    "for j in dataset[:,0]:\n",
    "    if j == value:\n",
    "        retDataSet.append(j)\n",
    "retDataSet"
   ]
  },
  {
   "cell_type": "code",
   "execution_count": null,
   "metadata": {},
   "outputs": [],
   "source": [
    "#分离数据\n",
    "def splitDataSet(dataSet, axis, value):\n",
    "    retDataSet = []\n",
    "    for featVec in dataSet:\n",
    "        if featVec[axis] == value:\n",
    "            reducedFeatVec = featVec[:axis]\n",
    "            reducedFeatVec.extend(featVec[axis+1:])\n",
    "            retDataSet.append(reducedFeatVec)\n",
    "     \n",
    "    return retDataSet"
   ]
  },
  {
   "cell_type": "code",
   "execution_count": null,
   "metadata": {},
   "outputs": [],
   "source": [
    "function [ subSet ] = splitData( data, axis, value )  \n",
    "        [m,n] = size(data);%得到待划分数据的大小  \n",
    "          \n",
    "        subSet = data;  \n",
    "        subSet(:,axis) = [];  %%需要知道axis的参数数据，上文是j是列，[]是一个空列表\n",
    "        k = 0;  \n",
    "        for i = 1:m  \n",
    "            if data(i,axis) ~= value  \n",
    "                subSet(i-k,:) = [];  %%奇怪的代码\n",
    "                k = k+1;  \n",
    "            end  \n",
    "        end     \n",
    "    end  \n"
   ]
  }
 ],
 "metadata": {
  "kernelspec": {
   "display_name": "Python 3",
   "language": "python",
   "name": "python3"
  },
  "language_info": {
   "codemirror_mode": {
    "name": "ipython",
    "version": 3
   },
   "file_extension": ".py",
   "mimetype": "text/x-python",
   "name": "python",
   "nbconvert_exporter": "python",
   "pygments_lexer": "ipython3",
   "version": "3.6.5"
  }
 },
 "nbformat": 4,
 "nbformat_minor": 2
}
