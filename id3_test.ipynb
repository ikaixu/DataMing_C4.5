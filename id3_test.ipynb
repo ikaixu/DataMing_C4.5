{
 "cells": [
  {
   "cell_type": "code",
   "execution_count": null,
   "metadata": {},
   "outputs": [],
   "source": [
    "\"\"\"\n",
    "改进id3_learn.ipynb中的不足,在python的pandas和numpy中找寻相关的api简化一些函数。\n",
    "\"\"\""
   ]
  },
  {
   "cell_type": "code",
   "execution_count": null,
   "metadata": {},
   "outputs": [],
   "source": [
    "\"\"\"\n",
    "计算初始熵值的改进方法，pandas实现。耗时耗力。\n",
    "\"\"\""
   ]
  },
  {
   "cell_type": "code",
   "execution_count": 5,
   "metadata": {},
   "outputs": [],
   "source": [
    "import pandas as pd\n",
    "import numpy as np\n",
    "import math"
   ]
  },
  {
   "cell_type": "code",
   "execution_count": 6,
   "metadata": {},
   "outputs": [],
   "source": [
    "dataset = np.array([(0,2,0,0,0), (0,2,0,1,0), (1,2,0,0,1), (2,1,0,0,1), \n",
    "                   (2,0,1,0,1), (2,0,1,1,0), (1,0,1,1,1), (0,1,0,0,0), \n",
    "                   (0,0,1,0,1), (2,1,1,0,1), (0,1,1,1,1), (1,1,0,1,1), \n",
    "                   (1,2,1,0,1), (2,1,0,1,0)])"
   ]
  },
  {
   "cell_type": "code",
   "execution_count": 13,
   "metadata": {},
   "outputs": [
    {
     "data": {
      "text/plain": [
       "array([0, 0, 1, 2, 2, 2, 1, 0, 0, 2, 0, 1, 1, 2])"
      ]
     },
     "execution_count": 13,
     "metadata": {},
     "output_type": "execute_result"
    }
   ],
   "source": [
    "#dataset[:,0]"
   ]
  },
  {
   "cell_type": "code",
   "execution_count": 12,
   "metadata": {},
   "outputs": [
    {
     "data": {
      "text/plain": [
       "[array([0, 0, 1, 2, 2, 2, 1, 0, 0, 2, 0, 1, 1, 2]),\n",
       " array([2, 2, 2, 1, 0, 0, 0, 1, 0, 1, 1, 1, 2, 1]),\n",
       " array([0, 0, 0, 0, 1, 1, 1, 0, 1, 1, 1, 0, 1, 0]),\n",
       " array([0, 1, 0, 0, 0, 1, 1, 0, 0, 0, 1, 1, 0, 1]),\n",
       " array([0, 0, 1, 1, 1, 0, 1, 0, 1, 1, 1, 1, 1, 0])]"
      ]
     },
     "execution_count": 12,
     "metadata": {},
     "output_type": "execute_result"
    }
   ],
   "source": [
    "#按列循环\n",
    "k = []\n",
    "for i in range(0,5):\n",
    "    k.append(dataset[:,i])\n",
    "k"
   ]
  },
  {
   "cell_type": "code",
   "execution_count": 16,
   "metadata": {},
   "outputs": [
    {
     "data": {
      "text/plain": [
       "[1, 1, 1, 1]"
      ]
     },
     "execution_count": 16,
     "metadata": {},
     "output_type": "execute_result"
    }
   ],
   "source": [
    "value = 1\n",
    "[m, n] = dataset.shape\n",
    "retDataSet = []\n",
    "for j in dataset[:,0]:\n",
    "    if j == value:\n",
    "        retDataSet.append(j)\n",
    "retDataSet"
   ]
  },
  {
   "cell_type": "code",
   "execution_count": 23,
   "metadata": {},
   "outputs": [],
   "source": [
    "#求熵解决方案,完美解决问题\n",
    "[m,n] = dataset.shape\n",
    "label = dataset[:,n-1]\n",
    "label_del = np.unique(label)\n",
    "entropy = 0\n",
    "for i in label_del:\n",
    "    condition = (label == i)\n",
    "    a = np.extract(condition, label)\n",
    "    b = len(a)/len(label)\n",
    "    entropy = entropy - b*math.log(b,2)"
   ]
  },
  {
   "cell_type": "code",
   "execution_count": 28,
   "metadata": {},
   "outputs": [],
   "source": [
    "#封装上述函数,参数是一个numpy的一维数组,这里考虑一下是否可以传入一维数组无法做到看来要修改\n",
    "def calEntropy(label):\n",
    "    label_del = np.unique(label)\n",
    "    entropy = 0\n",
    "    for i in label_del:\n",
    "        condition = (label == i)\n",
    "        a = np.extract(condition, label)\n",
    "        b = len(a)/len(label)\n",
    "        entropy = entropy - b*math.log(b,2)\n",
    "    return entropy"
   ]
  },
  {
   "cell_type": "code",
   "execution_count": 37,
   "metadata": {},
   "outputs": [],
   "source": [
    "#找最佳特征,算出所有特征的信息熵\n",
    "[m,n] = dataset.shape\n",
    "newentropytemp = 0\n",
    "newentropy = []\n",
    "for j in range(0,n-1):#对所有的列进行循环\n",
    "    k = np.unique(dataset[:,j])\n",
    "    for i in k:\n",
    "        condition = (dataset[:,j] == i)\n",
    "        a = np.extract(condition, dataset[:,n-1])#a是一个array对象，是满足第j列各属性值时最后一列\n",
    "        prob = len(a)/m\n",
    "        newentropytemp = newentropytemp - prob*calEntropy(a)#需要定义求解一个一维数组的熵值\n",
    "    newentropy.append(newentropytemp)\n",
    "#计算信息增益最大的情况\n",
    "basentropy = calEntropy(dataset[:,n-1])#数字和列表之间不能计算，把newentropy转化为numpy数组\n",
    "newentropy = np.array(newentropy)#下面数组和数字之间可以进行计算。\n",
    "infoGain = basentropy - newentropy\n",
    "\n",
    "#求得最佳分裂特征的列编号"
   ]
  },
  {
   "cell_type": "code",
   "execution_count": 38,
   "metadata": {},
   "outputs": [
    {
     "data": {
      "text/plain": [
       "array([1.6338221 , 2.54488549, 3.33333595, 4.22549488])"
      ]
     },
     "execution_count": 38,
     "metadata": {},
     "output_type": "execute_result"
    }
   ],
   "source": [
    "basentropy - newentropy"
   ]
  },
  {
   "cell_type": "code",
   "execution_count": null,
   "metadata": {},
   "outputs": [],
   "source": [
    "#分离数据\n",
    "def splitDataSet(dataSet, axis, value):\n",
    "    retDataSet = []\n",
    "    for featVec in dataSet:\n",
    "        if featVec[axis] == value:\n",
    "            reducedFeatVec = featVec[:axis]\n",
    "            reducedFeatVec.extend(featVec[axis+1:])\n",
    "            retDataSet.append(reducedFeatVec)\n",
    "     \n",
    "    return retDataSet"
   ]
  },
  {
   "cell_type": "code",
   "execution_count": null,
   "metadata": {},
   "outputs": [],
   "source": []
  }
 ],
 "metadata": {
  "kernelspec": {
   "display_name": "Python 3",
   "language": "python",
   "name": "python3"
  },
  "language_info": {
   "codemirror_mode": {
    "name": "ipython",
    "version": 3
   },
   "file_extension": ".py",
   "mimetype": "text/x-python",
   "name": "python",
   "nbconvert_exporter": "python",
   "pygments_lexer": "ipython3",
   "version": "3.6.5"
  }
 },
 "nbformat": 4,
 "nbformat_minor": 2
}
