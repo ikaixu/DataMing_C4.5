{
 "cells": [
  {
   "cell_type": "code",
   "execution_count": 89,
   "metadata": {},
   "outputs": [],
   "source": [
    "import pandas as pd\n",
    "import numpy as np\n",
    "import math"
   ]
  },
  {
   "cell_type": "code",
   "execution_count": 3,
   "metadata": {},
   "outputs": [
    {
     "data": {
      "text/html": [
       "<div>\n",
       "<style scoped>\n",
       "    .dataframe tbody tr th:only-of-type {\n",
       "        vertical-align: middle;\n",
       "    }\n",
       "\n",
       "    .dataframe tbody tr th {\n",
       "        vertical-align: top;\n",
       "    }\n",
       "\n",
       "    .dataframe thead th {\n",
       "        text-align: right;\n",
       "    }\n",
       "</style>\n",
       "<table border=\"1\" class=\"dataframe\">\n",
       "  <thead>\n",
       "    <tr style=\"text-align: right;\">\n",
       "      <th></th>\n",
       "      <th>0</th>\n",
       "      <th>1</th>\n",
       "      <th>2</th>\n",
       "      <th>3</th>\n",
       "      <th>4</th>\n",
       "    </tr>\n",
       "  </thead>\n",
       "  <tbody>\n",
       "    <tr>\n",
       "      <th>0</th>\n",
       "      <td>5.1</td>\n",
       "      <td>3.5</td>\n",
       "      <td>1.4</td>\n",
       "      <td>0.2</td>\n",
       "      <td>Iris-setosa</td>\n",
       "    </tr>\n",
       "    <tr>\n",
       "      <th>1</th>\n",
       "      <td>4.9</td>\n",
       "      <td>3.0</td>\n",
       "      <td>1.4</td>\n",
       "      <td>0.2</td>\n",
       "      <td>Iris-setosa</td>\n",
       "    </tr>\n",
       "    <tr>\n",
       "      <th>2</th>\n",
       "      <td>4.7</td>\n",
       "      <td>3.2</td>\n",
       "      <td>1.3</td>\n",
       "      <td>0.2</td>\n",
       "      <td>Iris-setosa</td>\n",
       "    </tr>\n",
       "    <tr>\n",
       "      <th>3</th>\n",
       "      <td>4.6</td>\n",
       "      <td>3.1</td>\n",
       "      <td>1.5</td>\n",
       "      <td>0.2</td>\n",
       "      <td>Iris-setosa</td>\n",
       "    </tr>\n",
       "    <tr>\n",
       "      <th>4</th>\n",
       "      <td>5.0</td>\n",
       "      <td>3.6</td>\n",
       "      <td>1.4</td>\n",
       "      <td>0.2</td>\n",
       "      <td>Iris-setosa</td>\n",
       "    </tr>\n",
       "  </tbody>\n",
       "</table>\n",
       "</div>"
      ],
      "text/plain": [
       "     0    1    2    3            4\n",
       "0  5.1  3.5  1.4  0.2  Iris-setosa\n",
       "1  4.9  3.0  1.4  0.2  Iris-setosa\n",
       "2  4.7  3.2  1.3  0.2  Iris-setosa\n",
       "3  4.6  3.1  1.5  0.2  Iris-setosa\n",
       "4  5.0  3.6  1.4  0.2  Iris-setosa"
      ]
     },
     "execution_count": 3,
     "metadata": {},
     "output_type": "execute_result"
    }
   ],
   "source": [
    "#读入鸢尾花数据集\n",
    "ds = pd.read_table(\"irisdataset.txt\", sep = \",\", header = None)\n",
    "ds.head()"
   ]
  },
  {
   "cell_type": "code",
   "execution_count": 4,
   "metadata": {},
   "outputs": [
    {
     "data": {
      "text/plain": [
       "'\\n现在调整策略,直接用创建好的数据集进行实践.\\n'"
      ]
     },
     "execution_count": 4,
     "metadata": {},
     "output_type": "execute_result"
    }
   ],
   "source": [
    "\"\"\"\n",
    "数据说明：属性一是萼片长度，属性二是萼片宽度，属性三是花瓣长度，属性四是花瓣宽度\n",
    "类有：Setosa,Versicolour,Virginica\n",
    "显然讨论的属性数据都是连续数据\n",
    "\"\"\"\n",
    "\n",
    "\"\"\"\n",
    "现在调整策略,直接用创建好的数据集进行实践.\n",
    "\"\"\""
   ]
  },
  {
   "cell_type": "code",
   "execution_count": 78,
   "metadata": {},
   "outputs": [],
   "source": [
    "dataset = np.array([(0,2,0,0,0), (0,2,0,1,0), (1,2,0,0,1), (2,1,0,0,1), \n",
    "                   (2,0,1,0,1), (2,0,1,1,0), (1,0,1,1,1), (0,1,0,0,0), \n",
    "                   (0,0,1,0,1), (2,1,1,0,1), (0,1,1,1,1), (1,1,0,1,1), \n",
    "                   (1,2,1,0,1), (2,1,0,1,0)])\n",
    "dataset = np.asmatrix(dataset)"
   ]
  },
  {
   "cell_type": "code",
   "execution_count": 79,
   "metadata": {},
   "outputs": [],
   "source": [
    "m,n = dataset.shape\n",
    "s = dataset[:,n-1]\n",
    "s1 = s.getA()\n",
    "s2 = np.unique(s1)\n",
    "s3 = len(s2)\n",
    "s4 = np.zeros((s3,2))\n",
    "s4 = np.asmatrix(s4)\n",
    "s2 = np.asmatrix(s2)\n",
    "s2 = s2.T\n",
    "#s4[0,1]\n",
    "#s2[0,:]\n",
    "#s4[0,1] = s2[0,:]\n",
    "#s4\n",
    "#s[1]\n",
    "#s2[1]"
   ]
  },
  {
   "cell_type": "code",
   "execution_count": 80,
   "metadata": {},
   "outputs": [
    {
     "data": {
      "text/plain": [
       "matrix([[0., 5.],\n",
       "        [1., 9.]])"
      ]
     },
     "execution_count": 80,
     "metadata": {},
     "output_type": "execute_result"
    }
   ],
   "source": [
    "for i in range(0, s3):\n",
    "        s4[i,0] = s2[i,:]\n",
    "        for j in range(0, m):\n",
    "            if (s[j,:] == s2[i,:]):\n",
    "                s4[i,1] = s4[i,1]+1\n",
    "s4"
   ]
  },
  {
   "cell_type": "code",
   "execution_count": 81,
   "metadata": {},
   "outputs": [
    {
     "data": {
      "text/plain": [
       "matrix([[0.        , 0.35714286],\n",
       "        [1.        , 0.64285714]])"
      ]
     },
     "execution_count": 81,
     "metadata": {},
     "output_type": "execute_result"
    }
   ],
   "source": [
    "s4[:,1] = s4[:,1]/m\n",
    "s4"
   ]
  },
  {
   "cell_type": "code",
   "execution_count": 87,
   "metadata": {},
   "outputs": [
    {
     "data": {
      "text/plain": [
       "0.0"
      ]
     },
     "execution_count": 87,
     "metadata": {},
     "output_type": "execute_result"
    }
   ],
   "source": [
    "s4[0,0]"
   ]
  },
  {
   "cell_type": "code",
   "execution_count": 92,
   "metadata": {},
   "outputs": [
    {
     "data": {
      "text/plain": [
       "0.9402859586706309"
      ]
     },
     "execution_count": 92,
     "metadata": {},
     "output_type": "execute_result"
    }
   ],
   "source": [
    "entropy = 0;  \n",
    "for i in range(0, s3):\n",
    "    entropy = entropy - s4[i,1] * math.log(s4[i,1], 2);#似乎有问题\n",
    "entropy"
   ]
  },
  {
   "cell_type": "code",
   "execution_count": null,
   "metadata": {},
   "outputs": [],
   "source": [
    "#编写计算熵值的函数\n",
    "def calEntropy(dataset):\n",
    "    [m,n] = dataset.shape#提取数据的维度信息\n",
    "    \n",
    "    label = dataset[:,(n-1)]#类别列向量\n",
    "    label_del = np.unique(label.getA())#提取类别信息\n",
    "    \n",
    "    numLabel = len(label_del)#类别的数目\n",
    "    \n",
    "    label_del = np.asmatrix(label_del)\n",
    "    label_del = label_del.T#对齐数据格式\n",
    "    \n",
    "    prob = np.zeros((numLabel, 2))#创建数组行数numLabel，列数为2\n",
    "    \n",
    "    prob = np.asmatrix(prob)#转为矩阵\n",
    "    \n",
    "    \n",
    "    #统计各类数量并且记录在一个矩阵中,其实可以直接调用numpy的stats函数,可改的\n",
    "    for i in range(1, numLabel):\n",
    "        prob[i,0] = label_deal[i,:]\n",
    "        for j = range(0, m):\n",
    "            if label[j,:] == label_deal[i,:]:\n",
    "                prob[i,1] = prob[i,1]+1\n",
    "    \n",
    "    \n",
    "    #计算熵\n",
    "    prob[:,1] = prob[:,1]/m;  \n",
    "    entropy = 0;  \n",
    "    for i in range(0, numLabel):\n",
    "            entropy = entropy - prob[i,1] * math.log(prob[i,1], 2)\n",
    "    return entropy"
   ]
  }
 ],
 "metadata": {
  "kernelspec": {
   "display_name": "Python 3",
   "language": "python",
   "name": "python3"
  },
  "language_info": {
   "codemirror_mode": {
    "name": "ipython",
    "version": 3
   },
   "file_extension": ".py",
   "mimetype": "text/x-python",
   "name": "python",
   "nbconvert_exporter": "python",
   "pygments_lexer": "ipython3",
   "version": "3.6.5"
  }
 },
 "nbformat": 4,
 "nbformat_minor": 2
}
